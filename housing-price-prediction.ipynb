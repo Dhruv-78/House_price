{
 "cells": [
  {
   "cell_type": "markdown",
   "metadata": {},
   "source": [
    "### House Price Pridiction\n"
   ]
  },
  {
   "cell_type": "code",
   "execution_count": 1,
   "metadata": {
    "_cell_guid": "b1076dfc-b9ad-4769-8c92-a6c4dae69d19",
    "_uuid": "8f2839f25d086af736a60e9eeb907d3b93b6e0e5"
   },
   "outputs": [],
   "source": [
    "#Immporting modules\n",
    "\n",
    "import numpy as np # linear algebra\n",
    "import pandas as pd # data processing, CSV file I/O (e.g. pd.read_csv)\n",
    "import matplotlib.pyplot as plt\n",
    "import seaborn as sns\n",
    "import sklearn"
   ]
  },
  {
   "cell_type": "markdown",
   "metadata": {},
   "source": [
    "# **DataSet**\n",
    "\n",
    "longitude : A measure of how far west a house is; a higher value is farther west\n",
    "\n",
    "latitude : A measure of how far north a house is; a higher value is farther north\n",
    "dfdfdfdfdf\n",
    "housing_median_age : Median age of a house within a block; a lower number is a newer building\n",
    "\n",
    "total_rooms : Total number of rooms within a block\n",
    "\n",
    "total_bedrooms : Total number of bedrooms within a block\n",
    "\n",
    "population : Total number of people residing within a block\n",
    "\n",
    "households : Total number of households, a group of people residing within a home unit, for a block\n",
    "\n",
    "median_income : Median income for households within a block of houses (measured in tens of thousands of US Dollars)\n",
    "\n",
    "ocean_proximity : The house has a Ocean view or not\n",
    "\n",
    "Output variable:\n",
    "\n",
    "median_house_value : Median house value for households within a block (measured in US Dollars)\n"
   ]
  },
  {
   "cell_type": "markdown",
   "metadata": {},
   "source": [
    "### Reading Data"
   ]
  },
  {
   "cell_type": "code",
   "execution_count": 2,
   "metadata": {},
   "outputs": [],
   "source": [
    "house=pd.read_csv('housing.csv')"
   ]
  },
  {
   "cell_type": "markdown",
   "metadata": {},
   "source": [
    "#### Exploratory Data Analysis"
   ]
  },
  {
   "cell_type": "code",
   "execution_count": 3,
   "metadata": {},
   "outputs": [
    {
     "data": {
      "text/html": [
       "<div>\n",
       "<style scoped>\n",
       "    .dataframe tbody tr th:only-of-type {\n",
       "        vertical-align: middle;\n",
       "    }\n",
       "\n",
       "    .dataframe tbody tr th {\n",
       "        vertical-align: top;\n",
       "    }\n",
       "\n",
       "    .dataframe thead th {\n",
       "        text-align: right;\n",
       "    }\n",
       "</style>\n",
       "<table border=\"1\" class=\"dataframe\">\n",
       "  <thead>\n",
       "    <tr style=\"text-align: right;\">\n",
       "      <th></th>\n",
       "      <th>longitude</th>\n",
       "      <th>latitude</th>\n",
       "      <th>housing_median_age</th>\n",
       "      <th>total_rooms</th>\n",
       "      <th>total_bedrooms</th>\n",
       "      <th>population</th>\n",
       "      <th>households</th>\n",
       "      <th>median_income</th>\n",
       "      <th>median_house_value</th>\n",
       "    </tr>\n",
       "  </thead>\n",
       "  <tbody>\n",
       "    <tr>\n",
       "      <th>0</th>\n",
       "      <td>-122.23</td>\n",
       "      <td>37.88</td>\n",
       "      <td>41</td>\n",
       "      <td>880</td>\n",
       "      <td>129.0</td>\n",
       "      <td>322</td>\n",
       "      <td>126</td>\n",
       "      <td>8.3252</td>\n",
       "      <td>452600</td>\n",
       "    </tr>\n",
       "    <tr>\n",
       "      <th>1</th>\n",
       "      <td>-122.22</td>\n",
       "      <td>37.86</td>\n",
       "      <td>21</td>\n",
       "      <td>7099</td>\n",
       "      <td>1106.0</td>\n",
       "      <td>2401</td>\n",
       "      <td>1138</td>\n",
       "      <td>8.3014</td>\n",
       "      <td>358500</td>\n",
       "    </tr>\n",
       "    <tr>\n",
       "      <th>2</th>\n",
       "      <td>-122.24</td>\n",
       "      <td>37.85</td>\n",
       "      <td>52</td>\n",
       "      <td>1467</td>\n",
       "      <td>190.0</td>\n",
       "      <td>496</td>\n",
       "      <td>177</td>\n",
       "      <td>7.2574</td>\n",
       "      <td>352100</td>\n",
       "    </tr>\n",
       "    <tr>\n",
       "      <th>3</th>\n",
       "      <td>-122.25</td>\n",
       "      <td>37.85</td>\n",
       "      <td>52</td>\n",
       "      <td>1274</td>\n",
       "      <td>235.0</td>\n",
       "      <td>558</td>\n",
       "      <td>219</td>\n",
       "      <td>5.6431</td>\n",
       "      <td>341300</td>\n",
       "    </tr>\n",
       "    <tr>\n",
       "      <th>4</th>\n",
       "      <td>-122.25</td>\n",
       "      <td>37.85</td>\n",
       "      <td>52</td>\n",
       "      <td>1627</td>\n",
       "      <td>280.0</td>\n",
       "      <td>565</td>\n",
       "      <td>259</td>\n",
       "      <td>3.8462</td>\n",
       "      <td>342200</td>\n",
       "    </tr>\n",
       "  </tbody>\n",
       "</table>\n",
       "</div>"
      ],
      "text/plain": [
       "   longitude  latitude  housing_median_age  total_rooms  total_bedrooms  \\\n",
       "0    -122.23     37.88                  41          880           129.0   \n",
       "1    -122.22     37.86                  21         7099          1106.0   \n",
       "2    -122.24     37.85                  52         1467           190.0   \n",
       "3    -122.25     37.85                  52         1274           235.0   \n",
       "4    -122.25     37.85                  52         1627           280.0   \n",
       "\n",
       "   population  households  median_income  median_house_value  \n",
       "0         322         126         8.3252              452600  \n",
       "1        2401        1138         8.3014              358500  \n",
       "2         496         177         7.2574              352100  \n",
       "3         558         219         5.6431              341300  \n",
       "4         565         259         3.8462              342200  "
      ]
     },
     "execution_count": 3,
     "metadata": {},
     "output_type": "execute_result"
    }
   ],
   "source": [
    "house.head()"
   ]
  },
  {
   "cell_type": "code",
   "execution_count": 4,
   "metadata": {},
   "outputs": [
    {
     "name": "stdout",
     "output_type": "stream",
     "text": [
      "longitude               0\n",
      "latitude                0\n",
      "housing_median_age      0\n",
      "total_rooms             0\n",
      "total_bedrooms        207\n",
      "population              0\n",
      "households              0\n",
      "median_income           0\n",
      "median_house_value      0\n",
      "dtype: int64\n"
     ]
    },
    {
     "data": {
      "image/png": "[encoded data removed]",
      "text/plain": [
       "<Figure size 640x480 with 1 Axes>"
      ]
     },
     "metadata": {},
     "output_type": "display_data"
    },
    {
     "data": {
      "image/png": "[encoded data removed]",
      "text/plain": [
       "<Figure size 640x480 with 1 Axes>"
      ]
     },
     "metadata": {},
     "output_type": "display_data"
    },
    {
     "name": "stdout",
     "output_type": "stream",
     "text": [
      "longitude             0\n",
      "latitude              0\n",
      "housing_median_age    0\n",
      "total_rooms           0\n",
      "total_bedrooms        0\n",
      "population            0\n",
      "households            0\n",
      "median_income         0\n",
      "median_house_value    0\n",
      "dtype: int64\n",
      "(20433, 9)\n"
     ]
    }
   ],
   "source": [
    "print(house.isna().sum())\n",
    "house['median_income'].hist(bins=100)\n",
    "# plt.title(\"Histogram of feature_name\")\n",
    "# plt.xlabel('Feature Name')\n",
    "# plt.ylabel('Frequency')\n",
    "plt.show()\n",
    "sns.boxplot(x=house['median_income'])\n",
    "# plt.title('Box Plot of feature_name')\n",
    "plt.show()\n",
    "house=house.dropna()\n",
    "# house=house-house['ocean_proximity']\n",
    "print(house.isna().sum())\n",
    "print(house.shape)"
   ]
  },
  {
   "cell_type": "markdown",
   "metadata": {},
   "source": [
    "Refining Data"
   ]
  },
  {
   "cell_type": "code",
   "execution_count": 5,
   "metadata": {},
   "outputs": [
    {
     "name": "stdout",
     "output_type": "stream",
     "text": [
      "   longitude  latitude  housing_median_age  total_rooms  total_bedrooms  \\\n",
      "0    -122.23     37.88                  41          880           129.0   \n",
      "1    -122.22     37.86                  21         7099          1106.0   \n",
      "2    -122.24     37.85                  52         1467           190.0   \n",
      "3    -122.25     37.85                  52         1274           235.0   \n",
      "4    -122.25     37.85                  52         1627           280.0   \n",
      "\n",
      "   population  households  median_income  median_house_value  out  \n",
      "0         322         126         8.3252              452600   -1  \n",
      "1        2401        1138         8.3014              358500   -1  \n",
      "2         496         177         7.2574              352100    1  \n",
      "3         558         219         5.6431              341300    1  \n",
      "4         565         259         3.8462              342200    1  \n"
     ]
    },
    {
     "data": {
      "text/html": [
       "<div>\n",
       "<style scoped>\n",
       "    .dataframe tbody tr th:only-of-type {\n",
       "        vertical-align: middle;\n",
       "    }\n",
       "\n",
       "    .dataframe tbody tr th {\n",
       "        vertical-align: top;\n",
       "    }\n",
       "\n",
       "    .dataframe thead th {\n",
       "        text-align: right;\n",
       "    }\n",
       "</style>\n",
       "<table border=\"1\" class=\"dataframe\">\n",
       "  <thead>\n",
       "    <tr style=\"text-align: right;\">\n",
       "      <th></th>\n",
       "      <th>longitude</th>\n",
       "      <th>latitude</th>\n",
       "      <th>housing_median_age</th>\n",
       "      <th>total_rooms</th>\n",
       "      <th>total_bedrooms</th>\n",
       "      <th>population</th>\n",
       "      <th>households</th>\n",
       "      <th>median_income</th>\n",
       "      <th>median_house_value</th>\n",
       "      <th>out</th>\n",
       "    </tr>\n",
       "  </thead>\n",
       "  <tbody>\n",
       "    <tr>\n",
       "      <th>longitude</th>\n",
       "      <td>1.000000</td>\n",
       "      <td>-0.928533</td>\n",
       "      <td>-0.273165</td>\n",
       "      <td>0.228930</td>\n",
       "      <td>0.235652</td>\n",
       "      <td>0.200090</td>\n",
       "      <td>0.197141</td>\n",
       "      <td>0.040348</td>\n",
       "      <td>-0.013860</td>\n",
       "      <td>NaN</td>\n",
       "    </tr>\n",
       "    <tr>\n",
       "      <th>latitude</th>\n",
       "      <td>-0.928533</td>\n",
       "      <td>1.000000</td>\n",
       "      <td>0.185764</td>\n",
       "      <td>-0.216939</td>\n",
       "      <td>-0.222781</td>\n",
       "      <td>-0.201273</td>\n",
       "      <td>-0.207379</td>\n",
       "      <td>-0.182301</td>\n",
       "      <td>-0.204535</td>\n",
       "      <td>NaN</td>\n",
       "    </tr>\n",
       "    <tr>\n",
       "      <th>housing_median_age</th>\n",
       "      <td>-0.273165</td>\n",
       "      <td>0.185764</td>\n",
       "      <td>1.000000</td>\n",
       "      <td>-0.467829</td>\n",
       "      <td>-0.412103</td>\n",
       "      <td>-0.399655</td>\n",
       "      <td>-0.393664</td>\n",
       "      <td>0.073287</td>\n",
       "      <td>0.219936</td>\n",
       "      <td>NaN</td>\n",
       "    </tr>\n",
       "    <tr>\n",
       "      <th>total_rooms</th>\n",
       "      <td>0.228930</td>\n",
       "      <td>-0.216939</td>\n",
       "      <td>-0.467829</td>\n",
       "      <td>1.000000</td>\n",
       "      <td>0.925915</td>\n",
       "      <td>0.870484</td>\n",
       "      <td>0.911834</td>\n",
       "      <td>-0.060341</td>\n",
       "      <td>-0.112673</td>\n",
       "      <td>NaN</td>\n",
       "    </tr>\n",
       "    <tr>\n",
       "      <th>total_bedrooms</th>\n",
       "      <td>0.235652</td>\n",
       "      <td>-0.222781</td>\n",
       "      <td>-0.412103</td>\n",
       "      <td>0.925915</td>\n",
       "      <td>1.000000</td>\n",
       "      <td>0.875737</td>\n",
       "      <td>0.978521</td>\n",
       "      <td>-0.250662</td>\n",
       "      <td>-0.216933</td>\n",
       "      <td>NaN</td>\n",
       "    </tr>\n",
       "    <tr>\n",
       "      <th>population</th>\n",
       "      <td>0.200090</td>\n",
       "      <td>-0.201273</td>\n",
       "      <td>-0.399655</td>\n",
       "      <td>0.870484</td>\n",
       "      <td>0.875737</td>\n",
       "      <td>1.000000</td>\n",
       "      <td>0.908085</td>\n",
       "      <td>-0.192051</td>\n",
       "      <td>-0.234981</td>\n",
       "      <td>NaN</td>\n",
       "    </tr>\n",
       "    <tr>\n",
       "      <th>households</th>\n",
       "      <td>0.197141</td>\n",
       "      <td>-0.207379</td>\n",
       "      <td>-0.393664</td>\n",
       "      <td>0.911834</td>\n",
       "      <td>0.978521</td>\n",
       "      <td>0.908085</td>\n",
       "      <td>1.000000</td>\n",
       "      <td>-0.231257</td>\n",
       "      <td>-0.196093</td>\n",
       "      <td>NaN</td>\n",
       "    </tr>\n",
       "    <tr>\n",
       "      <th>median_income</th>\n",
       "      <td>0.040348</td>\n",
       "      <td>-0.182301</td>\n",
       "      <td>0.073287</td>\n",
       "      <td>-0.060341</td>\n",
       "      <td>-0.250662</td>\n",
       "      <td>-0.192051</td>\n",
       "      <td>-0.231257</td>\n",
       "      <td>1.000000</td>\n",
       "      <td>0.747138</td>\n",
       "      <td>NaN</td>\n",
       "    </tr>\n",
       "    <tr>\n",
       "      <th>median_house_value</th>\n",
       "      <td>-0.013860</td>\n",
       "      <td>-0.204535</td>\n",
       "      <td>0.219936</td>\n",
       "      <td>-0.112673</td>\n",
       "      <td>-0.216933</td>\n",
       "      <td>-0.234981</td>\n",
       "      <td>-0.196093</td>\n",
       "      <td>0.747138</td>\n",
       "      <td>1.000000</td>\n",
       "      <td>NaN</td>\n",
       "    </tr>\n",
       "    <tr>\n",
       "      <th>out</th>\n",
       "      <td>NaN</td>\n",
       "      <td>NaN</td>\n",
       "      <td>NaN</td>\n",
       "      <td>NaN</td>\n",
       "      <td>NaN</td>\n",
       "      <td>NaN</td>\n",
       "      <td>NaN</td>\n",
       "      <td>NaN</td>\n",
       "      <td>NaN</td>\n",
       "      <td>NaN</td>\n",
       "    </tr>\n",
       "  </tbody>\n",
       "</table>\n",
       "</div>"
      ],
      "text/plain": [
       "                    longitude  latitude  housing_median_age  total_rooms  \\\n",
       "longitude            1.000000 -0.928533           -0.273165     0.228930   \n",
       "latitude            -0.928533  1.000000            0.185764    -0.216939   \n",
       "housing_median_age  -0.273165  0.185764            1.000000    -0.467829   \n",
       "total_rooms          0.228930 -0.216939           -0.467829     1.000000   \n",
       "total_bedrooms       0.235652 -0.222781           -0.412103     0.925915   \n",
       "population           0.200090 -0.201273           -0.399655     0.870484   \n",
       "households           0.197141 -0.207379           -0.393664     0.911834   \n",
       "median_income        0.040348 -0.182301            0.073287    -0.060341   \n",
       "median_house_value  -0.013860 -0.204535            0.219936    -0.112673   \n",
       "out                       NaN       NaN                 NaN          NaN   \n",
       "\n",
       "                    total_bedrooms  population  households  median_income  \\\n",
       "longitude                 0.235652    0.200090    0.197141       0.040348   \n",
       "latitude                 -0.222781   -0.201273   -0.207379      -0.182301   \n",
       "housing_median_age       -0.412103   -0.399655   -0.393664       0.073287   \n",
       "total_rooms               0.925915    0.870484    0.911834      -0.060341   \n",
       "total_bedrooms            1.000000    0.875737    0.978521      -0.250662   \n",
       "population                0.875737    1.000000    0.908085      -0.192051   \n",
       "households                0.978521    0.908085    1.000000      -0.231257   \n",
       "median_income            -0.250662   -0.192051   -0.231257       1.000000   \n",
       "median_house_value       -0.216933   -0.234981   -0.196093       0.747138   \n",
       "out                            NaN         NaN         NaN            NaN   \n",
       "\n",
       "                    median_house_value  out  \n",
       "longitude                    -0.013860  NaN  \n",
       "latitude                     -0.204535  NaN  \n",
       "housing_median_age            0.219936  NaN  \n",
       "total_rooms                  -0.112673  NaN  \n",
       "total_bedrooms               -0.216933  NaN  \n",
       "population                   -0.234981  NaN  \n",
       "households                   -0.196093  NaN  \n",
       "median_income                 0.747138  NaN  \n",
       "median_house_value            1.000000  NaN  \n",
       "out                                NaN  NaN  "
      ]
     },
     "execution_count": 5,
     "metadata": {},
     "output_type": "execute_result"
    }
   ],
   "source": [
    "features = ['housing_median_age','total_rooms','households','median_income']\n",
    "\n",
    "# for feature in features:\n",
    "#     Q1 = house[feature].quantile(0.25)\n",
    "#     Q3 = house[feature].quantile(0.75)\n",
    "#     IQR = Q3 - Q1\n",
    "#     lower_bound = Q1 - 1.5 * IQR\n",
    "#     upper_bound = Q3 + 1.5 * IQR\n",
    "#     house = house[(house[feature] >= lower_bound) & (house[feature] <= upper_bound)]\n",
    "from sklearn.ensemble import IsolationForest\n",
    "iso=IsolationForest(contamination=0.1,random_state=42)\n",
    "iso.fit(house)\n",
    "outlier=iso.predict(house)\n",
    "house['out']=outlier\n",
    "print(house.head())\n",
    "housenew=house[house['out']==-1]\n",
    "housenew.corr()"
   ]
  },
  {
   "cell_type": "code",
   "execution_count": 6,
   "metadata": {},
   "outputs": [],
   "source": [
    "x=housenew[features]\n",
    "y=housenew['median_house_value']"
   ]
  },
  {
   "cell_type": "markdown",
   "metadata": {},
   "source": [
    "## Scaling Dataset"
   ]
  },
  {
   "cell_type": "code",
   "execution_count": 7,
   "metadata": {},
   "outputs": [],
   "source": [
    "from sklearn.preprocessing import StandardScaler\n",
    "x_scaled=StandardScaler().fit_transform(x)"
   ]
  },
  {
   "cell_type": "markdown",
   "metadata": {},
   "source": [
    "## Polynomial reg"
   ]
  },
  {
   "cell_type": "code",
   "execution_count": 8,
   "metadata": {},
   "outputs": [],
   "source": [
    "from sklearn.preprocessing import PolynomialFeatures\n",
    "poly_f=PolynomialFeatures(degree=3)\n",
    "x_poly=poly_f.fit_transform(x_scaled)"
   ]
  },
  {
   "cell_type": "markdown",
   "metadata": {},
   "source": [
    "## Spliting Data"
   ]
  },
  {
   "cell_type": "code",
   "execution_count": 9,
   "metadata": {},
   "outputs": [
    {
     "data": {
      "text/plain": [
       "((1430, 35), (614, 35), (1430,))"
      ]
     },
     "execution_count": 9,
     "metadata": {},
     "output_type": "execute_result"
    }
   ],
   "source": [
    "from sklearn.model_selection import train_test_split\n",
    "X_train,X_test,Y_train,Y_test=train_test_split(x_poly,y,test_size=0.3,random_state=42)\n",
    "X_train.shape,X_test.shape,Y_train.shape"
   ]
  },
  {
   "cell_type": "markdown",
   "metadata": {},
   "source": [
    "## linear regression "
   ]
  },
  {
   "cell_type": "code",
   "execution_count": 10,
   "metadata": {},
   "outputs": [
    {
     "name": "stdout",
     "output_type": "stream",
     "text": [
      "7300732363.253363 Random_Forest\n",
      "0.7115529313417218\n"
     ]
    }
   ],
   "source": [
    "from sklearn.linear_model import Ridge\n",
    "from sklearn.linear_model import LinearRegression\n",
    "from sklearn import linear_model\n",
    "from sklearn.metrics import mean_squared_error\n",
    "from sklearn.metrics import r2_score\n",
    "\n",
    "from sklearn.ensemble import RandomForestRegressor\n",
    "\n",
    "# ridge=Ridge(alpha=0.9)\n",
    "# ridge.fit(X_train,Y_train)\n",
    "# y_pred=ridge.predict(X_test)\n",
    "# Y_test=np.array(Y_test)\n",
    "# error=mean_squared_error(y_pred,Y_test)\n",
    "# print(error, \"Ridge\")\n",
    "# print(r2_score(Y_test,y_pred))\n",
    "# model=LinearRegression()\n",
    "# model.fit(X_train,Y_train)\n",
    "# y_pred2=model.predict(X_test)\n",
    "# Y_test=np.array(Y_test)\n",
    "# error2=mean_squared_error(y_pred2,Y_test)\n",
    "# print(error2,'Linear')\n",
    "# print(r2_score(Y_test,y_pred2))\n",
    "\n",
    "#random forest--better Result \n",
    "model = RandomForestRegressor(n_estimators=500, random_state=0)\n",
    "model.fit(X_train,Y_train)\n",
    "y_pred3=model.predict(X_test)\n",
    "error3=mean_squared_error(y_pred3,Y_test)\n",
    "print(error3,\"Random_Forest\")\n",
    "print(r2_score(Y_test,y_pred3))"
   ]
  },
  {
   "cell_type": "markdown",
   "metadata": {},
   "source": [
    "#### Checking output"
   ]
  },
  {
   "cell_type": "code",
   "execution_count": 11,
   "metadata": {},
   "outputs": [
    {
     "data": {
      "text/plain": [
       "((614,), (614,))"
      ]
     },
     "execution_count": 11,
     "metadata": {},
     "output_type": "execute_result"
    }
   ],
   "source": [
    "y_pred3.shape ,Y_test.shape"
   ]
  },
  {
   "cell_type": "code",
   "execution_count": 12,
   "metadata": {},
   "outputs": [
    {
     "data": {
      "image/png": "[encoded data removed]",
      "text/plain": [
       "<Figure size 640x480 with 1 Axes>"
      ]
     },
     "metadata": {},
     "output_type": "display_data"
    }
   ],
   "source": [
    "import matplotlib.pyplot as plt\n",
    "plt.scatter(Y_test,y_pred3,c=\"blue\",label=\"training data\")\n",
    "plt.plot([min(y),max(y_pred3)],[min(y_pred3),max(y_pred3)],c=\"red\",label=\"Regression line\")\n",
    "plt.xlabel=\"Actual Values\"\n",
    "plt.ylabel=\"Predicted\"\n",
    "plt.title=\"Linear Regression\"\n",
    "plt.show()"
   ]
  },
  {
   "cell_type": "code",
   "execution_count": null,
   "metadata": {},
   "outputs": [],
   "source": []
  },
  {
   "cell_type": "code",
   "execution_count": null,
   "metadata": {},
   "outputs": [],
   "source": []
  },
  {
   "cell_type": "code",
   "execution_count": null,
   "metadata": {},
   "outputs": [],
   "source": []
  }
 ],
 "metadata": {
  "kaggle": {
   "accelerator": "none",
   "dataSources": [
    {
     "datasetId": 1342999,
     "sourceId": 2235268,
     "sourceType": "datasetVersion"
    },
    {
     "datasetId": 1381830,
     "sourceId": 2292500,
     "sourceType": "datasetVersion"
    }
   ],
   "dockerImageVersionId": 30732,
   "isGpuEnabled": false,
   "isInternetEnabled": true,
   "language": "python",
   "sourceType": "notebook"
  },
  "kernelspec": {
   "display_name": "Python 3 (ipykernel)",
   "language": "python",
   "name": "python3"
  },
  "language_info": {
   "codemirror_mode": {
    "name": "ipython",
    "version": 3
   },
   "file_extension": ".py",
   "mimetype": "text/x-python",
   "name": "python",
   "nbconvert_exporter": "python",
   "pygments_lexer": "ipython3",
   "version": "3.12.1"
  }
 },
 "nbformat": 4,
 "nbformat_minor": 4
}
